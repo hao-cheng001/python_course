
def mydata(name,id):
    print(name,id)
    
mydata("杜采鴒",1100565)    


