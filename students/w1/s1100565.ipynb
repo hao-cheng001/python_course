{
 "cells": [
  {
   "cell_type": "code",
   "execution_count": null,
   "metadata": {},
   "outputs": [],
   "source": [
    "def my_func(name: str, id: int):\n",
    "    print(id, name)\n",
    "\n",
    "my_func(\"杜采鴒\", 1090558)"
   ]
  }
 ],
 "metadata": {
  "language_info": {
   "name": "python"
  },
  "orig_nbformat": 4
 },
 "nbformat": 4,
 "nbformat_minor": 2
}
