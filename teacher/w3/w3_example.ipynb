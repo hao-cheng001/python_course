{
 "cells": [
  {
   "cell_type": "code",
   "execution_count": 1,
   "id": "0383f858-317a-47c6-872d-0d271b4f5c3f",
   "metadata": {},
   "outputs": [
    {
     "name": "stdout",
     "output_type": "stream",
     "text": [
      "Creating instance\n",
      "\n",
      "Jarron initial balance: 1000\n",
      "Balance after deposit: 1500\n",
      "Withdrawn: 800\n",
      "Balance after withdrawal: 700\n",
      "\n",
      "Removing instance\n"
     ]
    }
   ],
   "source": [
    "# show class & object \n",
    "\n",
    "class Account:\n",
    "    def __new__(cls, *args, **kwargs):\n",
    "        print('Creating instance')\n",
    "        return super().__new__(cls)\n",
    "    \n",
    "    def __init__(self, name,balance):\n",
    "        self.name = name\n",
    "        self.balance = balance\n",
    "\n",
    "    def __str__(self):\n",
    "        return f'Account of {self.name} with starting balance: {self.balance}'\n",
    "\n",
    "    def __del__(self):\n",
    "        print(\"\\nRemoving instance\") \n",
    "\n",
    "    \n",
    "    def deposit(self, amount):\n",
    "        self.balance += amount\n",
    "\n",
    "    def withdraw(self, amount):\n",
    "        if self.balance >= amount:\n",
    "            self.balance -= amount\n",
    "            return amount\n",
    "        else:\n",
    "            print('Insufficient funds')\n",
    "            return 0\n",
    "\n",
    "# Usage\n",
    "account = Account(\"Jarron\",1000)\n",
    "print(f'\\n{account.name} initial balance:', account.balance)\n",
    "\n",
    "account.deposit(500)\n",
    "print('Balance after deposit:', account.balance)\n",
    "\n",
    "withdraw_amount = account.withdraw(800)\n",
    "if withdraw_amount > 0:\n",
    "    print('Withdrawn:', withdraw_amount)\n",
    "print('Balance after withdrawal:', account.balance)\n",
    "\n",
    "del account\n"
   ]
  },
  {
   "cell_type": "code",
   "execution_count": null,
   "id": "56b232cb-70e0-4b66-8284-663fd05cb80c",
   "metadata": {},
   "outputs": [],
   "source": [
    "# show dir \n",
    "\n",
    "print (dir(Account))"
   ]
  },
  {
   "cell_type": "code",
   "execution_count": 3,
   "id": "5ee497d6-f897-43a2-9001-0025f36d675e",
   "metadata": {},
   "outputs": [
    {
     "name": "stdout",
     "output_type": "stream",
     "text": [
      "Creating instance\n",
      "Rick initial balance: 1000\n",
      "Balance after deposit: 2000 saving date: 2023-10-12 23:14:28\n",
      "Balance after withdrawal: 1000\n",
      "Interest after 1 year: 126.82503013196977\n"
     ]
    }
   ],
   "source": [
    "import datetime\n",
    "class SavingsAccount(Account):\n",
    "    def __init__(self, name, balance):\n",
    "        super().__init__(name, balance)\n",
    "        self.interest_rate = 0.01\n",
    "\n",
    "    def compute_interest(self, n_periods=1):\n",
    "        return self.balance * ((1 + self.interest_rate) ** n_periods - 1)\n",
    "    \n",
    "           \n",
    "    def deposit(self, amount,date=datetime.datetime.now()):\n",
    "        self.balance += amount\n",
    "        self.update_date= date\n",
    "    \n",
    "    \n",
    "savingsaccount= SavingsAccount(\"Rick\",1000)\n",
    "print(f'{savingsaccount.name} initial balance:', savingsaccount.balance)  \n",
    "\n",
    "savingsaccount.deposit(1000)\n",
    "print('Balance after deposit:', savingsaccount.balance, 'saving date:', savingsaccount.update_date.strftime(\"%Y-%m-%d %H:%M:%S\"))\n",
    "savingsaccount.withdraw(1000)\n",
    "print('Balance after withdrawal:', savingsaccount.balance)\n",
    "\n",
    "print('Interest after 1 year:', savingsaccount.compute_interest(12))"
   ]
  },
  {
   "cell_type": "code",
   "execution_count": 4,
   "id": "f9d027ef-ddf1-4f6f-ad97-1e22b399e6c2",
   "metadata": {},
   "outputs": [
    {
     "name": "stdout",
     "output_type": "stream",
     "text": [
      "(3,5)\n"
     ]
    }
   ],
   "source": [
    "class Point:\n",
    "    def __init__(self, x=0, y=0):\n",
    "        self.x = x\n",
    "        self.y = y\n",
    "\n",
    "    def __str__(self):\n",
    "        return \"({0},{1})\".format(self.x, self.y)\n",
    "\n",
    "    def __add__(self, other):\n",
    "        x = self.x + other.x\n",
    "        y = self.y + other.y\n",
    "        return Point(x, y)\n",
    "\n",
    "\n",
    "p1 = Point(1, 2)\n",
    "p2 = Point(2, 3)\n",
    "\n",
    "print(p1+p2)"
   ]
  },
  {
   "cell_type": "code",
   "execution_count": null,
   "id": "28987b28-4548-4699-9c3e-73471c243d1a",
   "metadata": {},
   "outputs": [],
   "source": [
    "# show reference (參照)\n",
    "\n",
    "x = account = Account(\"Jarron\",1000)\n",
    "y = account = Account(\"Jarron\",1000)\n",
    "z = x\n",
    "\n",
    "print(\"x is z=\",x is z)\n",
    "\n",
    "# returns True because z is the same object as x\n",
    "\n",
    "print(\"x is y=\",x is y)\n",
    "\n",
    "# returns False because x is not the same object as y, even if they have the same content"
   ]
  },
  {
   "cell_type": "code",
   "execution_count": null,
   "id": "5f90a6eb-4451-4441-a466-415998735089",
   "metadata": {},
   "outputs": [],
   "source": [
    "def get_user_input():\n",
    "    name = input(\"Enter your name: \")\n",
    "    age = int(input(\"Enter your age: \"))  # Assumes age is an integer\n",
    "\n",
    "    return name, age\n",
    "grade=get_user_input()\n",
    "print(grade)\n",
    "print(type(grade))"
   ]
  },
  {
   "cell_type": "code",
   "execution_count": 17,
   "id": "d77c8179-630d-4471-b1c1-a04eb93c9ebb",
   "metadata": {},
   "outputs": [
    {
     "name": "stdout",
     "output_type": "stream",
     "text": [
      "Sheet names: ['grade']\n",
      "((<Cell 'grade'.C5>, <Cell 'grade'.D5>, <Cell 'grade'.E5>, <Cell 'grade'.F5>, <Cell 'grade'.G5>, <Cell 'grade'.H5>, <Cell 'grade'.I5>, <Cell 'grade'.J5>), (<Cell 'grade'.C6>, <Cell 'grade'.D6>, <Cell 'grade'.E6>, <Cell 'grade'.F6>, <Cell 'grade'.G6>, <Cell 'grade'.H6>, <Cell 'grade'.I6>, <Cell 'grade'.J6>), (<Cell 'grade'.C7>, <Cell 'grade'.D7>, <Cell 'grade'.E7>, <Cell 'grade'.F7>, <Cell 'grade'.G7>, <Cell 'grade'.H7>, <Cell 'grade'.I7>, <Cell 'grade'.J7>), (<Cell 'grade'.C8>, <Cell 'grade'.D8>, <Cell 'grade'.E8>, <Cell 'grade'.F8>, <Cell 'grade'.G8>, <Cell 'grade'.H8>, <Cell 'grade'.I8>, <Cell 'grade'.J8>), (<Cell 'grade'.C9>, <Cell 'grade'.D9>, <Cell 'grade'.E9>, <Cell 'grade'.F9>, <Cell 'grade'.G9>, <Cell 'grade'.H9>, <Cell 'grade'.I9>, <Cell 'grade'.J9>), (<Cell 'grade'.C10>, <Cell 'grade'.D10>, <Cell 'grade'.E10>, <Cell 'grade'.F10>, <Cell 'grade'.G10>, <Cell 'grade'.H10>, <Cell 'grade'.I10>, <Cell 'grade'.J10>), (<Cell 'grade'.C11>, <Cell 'grade'.D11>, <Cell 'grade'.E11>, <Cell 'grade'.F11>, <Cell 'grade'.G11>, <Cell 'grade'.H11>, <Cell 'grade'.I11>, <Cell 'grade'.J11>), (<Cell 'grade'.C12>, <Cell 'grade'.D12>, <Cell 'grade'.E12>, <Cell 'grade'.F12>, <Cell 'grade'.G12>, <Cell 'grade'.H12>, <Cell 'grade'.I12>, <Cell 'grade'.J12>))\n",
      "2D Cell values:\n",
      "['名字', '國文', '英文', '數學', '理化', '總分', '平均', '名次']\n",
      "['John', 72, 88, 88, 84, None, None, None]\n",
      "['Eric', 88, 82, 77, 80, None, None, None]\n",
      "['Rick', 63, 49, 55, 68, None, None, None]\n",
      "['Mary', 72, 64, 82, 74, None, None, None]\n",
      "['Alice', 92, 79, 93, 89, None, None, None]\n",
      "['Match', 81, 72, 62, 70, None, None, None]\n",
      "['Sunny', 78, 77, 51, 72, None, None, None]\n"
     ]
    }
   ],
   "source": [
    "# pip install openpyxl\n",
    "# show read excel \n",
    "\n",
    "import openpyxl\n",
    "\n",
    "# Replace with the path to your Excel file\n",
    "excel_file_path = 'grade_list.xlsx'\n",
    "\n",
    "\n",
    "# Load the Excel workbook and select the sheet\n",
    "workbook = openpyxl.load_workbook(excel_file_path)\n",
    "# Get the sheet names\n",
    "sheet_names = workbook.sheetnames\n",
    "sheet_name=sheet_names[0]\n",
    "# Print the sheet names\n",
    "print(\"Sheet names:\", sheet_names)\n",
    "sheet = workbook[sheet_name]\n",
    "\n",
    "# Specify the cell coordinates (row and column indices, 1-based index)\n",
    "# Access the cell range\n",
    "cell_range_pattern='c5:j12'\n",
    "cell_range = sheet[cell_range_pattern]\n",
    "\n",
    "print(cell_range)\n",
    "\n",
    "# Initialize a 2D list to store cell values\n",
    "cell_values_2d = []\n",
    "\n",
    "# Iterate through the cells in the specified range and collect values\n",
    "for row in sheet[cell_range_pattern]:\n",
    "    row_values = []  # Create a list for each row\n",
    "    for cell in row:\n",
    "        row_values.append(cell.value)\n",
    "    cell_values_2d.append(row_values)  # Append the row list to the 2D list\n",
    "\n",
    "# Print the 2D list of cell values\n",
    "print(\"2D Cell values:\")\n",
    "for row_values in cell_values_2d:\n",
    "    print(row_values)\n",
    "\n",
    "\n",
    "\n",
    "# Close the workbook (important to release resources)\n",
    "workbook.close()\n",
    "\n",
    "\n"
   ]
  },
  {
   "cell_type": "code",
   "execution_count": null,
   "id": "04ceca5f-e828-4d2f-afbf-8f305a94f7d4",
   "metadata": {},
   "outputs": [],
   "source": []
  }
 ],
 "metadata": {
  "kernelspec": {
   "display_name": "Python 3 (ipykernel)",
   "language": "python",
   "name": "python3"
  },
  "language_info": {
   "codemirror_mode": {
    "name": "ipython",
    "version": 3
   },
   "file_extension": ".py",
   "mimetype": "text/x-python",
   "name": "python",
   "nbconvert_exporter": "python",
   "pygments_lexer": "ipython3",
   "version": "3.11.5"
  }
 },
 "nbformat": 4,
 "nbformat_minor": 5
}
